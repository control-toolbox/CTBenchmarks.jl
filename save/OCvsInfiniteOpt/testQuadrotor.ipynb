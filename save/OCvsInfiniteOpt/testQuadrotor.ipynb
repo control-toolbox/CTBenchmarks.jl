{
 "cells": [
  {
   "cell_type": "markdown",
   "metadata": {},
   "source": [
    "<div style=\"width:90%;\n",
    "            margin:10px;\n",
    "            padding:8px;\n",
    "            border:2px solid #FF0000;\n",
    "            border-radius:20px;\n",
    "            font-weight:bold;\n",
    "            font-size:2.5em;\n",
    "            text-align:center;\">\n",
    " The Quadrotor Problem\n",
    "</div>\n"
   ]
  },
  {
   "cell_type": "code",
   "execution_count": 1,
   "metadata": {},
   "outputs": [
    {
     "name": "stderr",
     "output_type": "stream",
     "text": [
      "\u001b[32m\u001b[1m  Activating\u001b[22m\u001b[39m project at `c:\\Users\\hajje\\Dropbox\\PC\\Desktop\\Stage\\COTS`\n"
     ]
    }
   ],
   "source": [
    "import Pkg\n",
    "Pkg.activate(\"..\")\n",
    "using MKL"
   ]
  },
  {
   "cell_type": "markdown",
   "metadata": {},
   "source": [
    "## 1. Solving with InfiniteOpt <a id='jump'></a>"
   ]
  },
  {
   "cell_type": "code",
   "execution_count": 2,
   "metadata": {},
   "outputs": [
    {
     "data": {
      "text/plain": [
       "quadrotor_InfOpt (generic function with 1 method)"
      ]
     },
     "metadata": {},
     "output_type": "display_data"
    }
   ],
   "source": [
    "using InfiniteOpt, Ipopt\n",
    "include(\"quadrotor_InfOpt.jl\")"
   ]
  },
  {
   "cell_type": "code",
   "execution_count": 3,
   "metadata": {},
   "outputs": [
    {
     "data": {
      "text/plain": [
       "An InfiniteOpt Model\n",
       "Minimization problem with:\n",
       "Finite Parameters: 0\n",
       "Infinite Parameter: 1\n",
       "Variables: 22\n",
       "Derivatives: 9\n",
       "Measure: 1\n",
       "Objective function type: GeneralVariableRef\n",
       "`GenericAffExpr{Float64, GeneralVariableRef}`-in-`MathOptInterface.EqualTo{Float64}`: 12 constraints\n",
       "`NLPExpr`-in-`MathOptInterface.EqualTo{Float64}`: 6 constraints\n",
       "Names registered in the model: d1, d3, d5, t, u, x\n",
       "Optimizer model backend information: \n",
       "Model mode: AUTOMATIC\n",
       "CachingOptimizer state: NO_OPTIMIZER\n",
       "Solver name: No optimizer attached."
      ]
     },
     "metadata": {},
     "output_type": "display_data"
    }
   ],
   "source": [
    "modelInfOpt= quadrotor_InfOpt(;num_supports=100)"
   ]
  },
  {
   "cell_type": "code",
   "execution_count": 4,
   "metadata": {},
   "outputs": [
    {
     "name": "stdout",
     "output_type": "stream",
     "text": [
      "\n",
      "******************************************************************************\n",
      "This program contains Ipopt, a library for large-scale nonlinear optimization.\n",
      " Ipopt is released as open source code under the Eclipse Public License (EPL).\n",
      "         For more information visit https://github.com/coin-or/Ipopt\n",
      "******************************************************************************\n",
      "\n",
      "This is Ipopt version 3.14.16, running with linear solver MUMPS 5.7.3.\n",
      "\n",
      "Number of nonzeros in equality constraint Jacobian...:     6182\n",
      "Number of nonzeros in inequality constraint Jacobian.:        0\n",
      "Number of nonzeros in Lagrangian Hessian.............:     5900\n",
      "\n",
      "Total number of variables............................:     2200\n",
      "                     variables with only lower bounds:        0\n",
      "                variables with lower and upper bounds:        0\n",
      "                     variables with only upper bounds:        0\n",
      "Total number of equality constraints.................:     1800\n",
      "Total number of inequality constraints...............:        0\n",
      "        inequality constraints with only lower bounds:        0\n",
      "   inequality constraints with lower and upper bounds:        0\n",
      "        inequality constraints with only upper bounds:        0\n",
      "\n",
      "iter    objective    inf_pr   inf_du lg(mu)  ||d||  lg(rg) alpha_du alpha_pr  ls\n",
      "   0  2.3000408e+02 9.80e+00 2.42e+00  -1.0 0.00e+00    -  0.00e+00 0.00e+00   0\n",
      "   1  7.2142310e+02 1.64e-15 6.83e+03  -1.0 1.01e+01    -  1.00e+00 1.00e+00h  1\n",
      "   2  7.2138924e+02 1.45e-10 2.22e+00  -1.0 2.22e-04   4.0 1.00e+00 1.00e+00f  1\n",
      "   3  5.7143179e+02 1.55e-02 4.05e-03  -1.0 2.00e+00    -  1.00e+00 1.00e+00f  1\n",
      "   4  5.7147629e+02 2.02e-06 1.17e-05  -3.8 1.11e-02    -  1.00e+00 1.00e+00h  1\n",
      "   5  5.7147629e+02 1.29e-12 2.89e-12  -8.6 1.65e-06    -  1.00e+00 1.00e+00h  1\n",
      "\n",
      "Number of Iterations....: 5\n",
      "\n",
      "                                   (scaled)                 (unscaled)\n",
      "Objective...............:   5.7147628671239499e+02    5.7147628671239499e+02\n",
      "Dual infeasibility......:   2.8867325196912930e-12    2.8867325196912930e-12\n",
      "Constraint violation....:   1.2863043963307064e-12    1.2863043963307064e-12\n",
      "Variable bound violation:   0.0000000000000000e+00    0.0000000000000000e+00\n",
      "Complementarity.........:   0.0000000000000000e+00    0.0000000000000000e+00\n",
      "Overall NLP error.......:   2.8867325196912930e-12    2.8867325196912930e-12\n",
      "\n",
      "\n",
      "Number of objective function evaluations             = 6\n",
      "Number of objective gradient evaluations             = 6\n",
      "Number of equality constraint evaluations            = 6\n",
      "Number of inequality constraint evaluations          = 0\n",
      "Number of equality constraint Jacobian evaluations   = 6\n",
      "Number of inequality constraint Jacobian evaluations = 0\n",
      "Number of Lagrangian Hessian evaluations             = 5\n",
      "Total seconds in IPOPT (w/o function evaluations)    =      0.385\n",
      "Total seconds in NLP function evaluations            =      1.367\n",
      "\n",
      "\n",
      "Timing Statistics:\n",
      "\n",
      "OverallAlgorithm....................:      1.752 (sys:      0.000 wall:      1.752)\n",
      " PrintProblemStatistics.............:      0.000 (sys:      0.000 wall:      0.000)\n",
      " InitializeIterates.................:      0.363 (sys:      0.000 wall:      0.363)\n",
      " UpdateHessian......................:      1.346 (sys:      0.000 wall:      1.345)\n",
      " OutputIteration....................:      0.000 (sys:      0.000 wall:      0.000)\n",
      " UpdateBarrierParameter.............:      0.000 (sys:      0.000 wall:      0.000)\n",
      " ComputeSearchDirection.............:      0.017 (sys:      0.000 wall:      0.018)\n",
      " ComputeAcceptableTrialPoint........:      0.010 (sys:      0.000 wall:      0.008)\n",
      " AcceptTrialPoint...................:      0.000 (sys:      0.000 wall:      0.000)\n",
      " CheckConvergence...................:      0.016 (sys:      0.000 wall:      0.017)\n",
      "PDSystemSolverTotal.................:      0.017 (sys:      0.000 wall:      0.018)\n",
      " PDSystemSolverSolveOnce............:      0.017 (sys:      0.000 wall:      0.018)\n",
      " ComputeResiduals...................:      0.000 (sys:      0.000 wall:      0.000)\n",
      " StdAugSystemSolverMultiSolve.......:      0.026 (sys:      0.000 wall:      0.027)\n",
      " LinearSystemScaling................:      0.000 (sys:      0.000 wall:      0.000)\n",
      " LinearSystemSymbolicFactorization..:      0.002 (sys:      0.000 wall:      0.002)\n",
      " LinearSystemFactorization..........:      0.000 (sys:      0.000 wall:      0.000)\n",
      " LinearSystemBackSolve..............:      0.002 (sys:      0.000 wall:      0.003)\n",
      " LinearSystemStructureConverter.....:      0.000 (sys:      0.000 wall:      0.000)\n",
      "  LinearSystemStructureConverterInit:      0.000 (sys:      0.000 wall:      0.000)\n",
      "QualityFunctionSearch...............:      0.000 (sys:      0.000 wall:      0.000)\n",
      "TryCorrector........................:      0.000 (sys:      0.000 wall:      0.000)\n",
      "Task1...............................:      0.000 (sys:      0.000 wall:      0.000)\n",
      "Task2...............................:      0.000 (sys:      0.000 wall:      0.000)\n",
      "Task3...............................:      0.000 (sys:      0.000 wall:      0.000)\n",
      "Task4...............................:      0.000 (sys:      0.000 wall:      0.000)\n",
      "Task5...............................:      0.000 (sys:      0.000 wall:      0.000)\n",
      "Task6...............................:      0.000 (sys:      0.000 wall:      0.000)\n",
      "Function Evaluations................:      1.369 (sys:      0.000 wall:      1.367)\n",
      " Objective function.................:      0.000 (sys:      0.000 wall:      0.000)\n",
      " Objective function gradient........:      0.000 (sys:      0.000 wall:      0.000)\n",
      " Equality constraints...............:      0.023 (sys:      0.000 wall:      0.022)\n",
      " Inequality constraints.............:      0.000 (sys:      0.000 wall:      0.000)\n",
      " Equality constraint Jacobian.......:      0.001 (sys:      0.000 wall:      0.001)\n",
      " Inequality constraint Jacobian.....:      0.000 (sys:      0.000 wall:      0.000)\n",
      " Lagrangian Hessian.................:      1.345 (sys:      0.000 wall:      1.345)\n",
      "\n",
      "EXIT: Optimal Solution Found.\n"
     ]
    }
   ],
   "source": [
    "set_optimizer(modelInfOpt, Ipopt.Optimizer)\n",
    "set_optimizer_attribute(modelInfOpt, \"print_timing_statistics\", \"yes\")\n",
    "optimize!(modelInfOpt)"
   ]
  },
  {
   "cell_type": "markdown",
   "metadata": {},
   "source": [
    "## 2. Solving with OptimalControl <a id='oc'></a>"
   ]
  },
  {
   "cell_type": "code",
   "execution_count": 5,
   "metadata": {},
   "outputs": [
    {
     "data": {
      "text/plain": [
       "(CTDirect.DOCP(OptimalControlModel{NonAutonomous, Fixed}\n",
       "  model_expression: Expr\n",
       "  initial_time: Int64 0\n",
       "  initial_time_name: String \"0\"\n",
       "  final_time: Int64 60\n",
       "  final_time_name: String \"60\"\n",
       "  time_name: String \"t\"\n",
       "  control_dimension: Int64 4\n",
       "  control_components_names: Array{String}((4,))\n",
       "  control_name: String \"u\"\n",
       "  state_dimension: Int64 9\n",
       "  state_components_names: Array{String}((9,))\n",
       "  state_name: String \"x\"\n",
       "  variable_dimension: Nothing nothing\n",
       "  variable_components_names: Nothing nothing\n",
       "  variable_name: Nothing nothing\n",
       "  lagrange: CTBase.Lagrange{NonAutonomous, Fixed}\n",
       "  mayer: Nothing nothing\n",
       "  criterion: Symbol min\n",
       "  dynamics: CTBase.Dynamics{NonAutonomous, Fixed}\n",
       "  constraints: Dict{Symbol, Tuple}\n",
       "  dim_control_constraints: Int64 0\n",
       "  dim_state_constraints: Int64 0\n",
       "  dim_mixed_constraints: Int64 0\n",
       "  dim_boundary_constraints: Int64 9\n",
       "  dim_variable_constraints: Int64 0\n",
       "  dim_control_range: Int64 0\n",
       "  dim_state_range: Int64 0\n",
       "  dim_variable_range: Int64 0\n",
       ", (Real[], CTBase.var\"#ξ#41\"(Core.Box(Real[]), Core.Box(CTBase.ControlConstraint[])), Real[]), (Real[], CTBase.var\"#η#42\"(Core.Box(Real[]), Core.Box(CTBase.StateConstraint[])), Real[]), (Real[], CTBase.var\"#ψ#43\"(Core.Box(Real[]), Core.Box(CTBase.MixedConstraint[])), Real[]), (Real[0, 0, 0, 0, 0, 0, 0, 0, 0], CTBase.var\"#ϕ#44\"(Core.Box(Real[0, 0, 0, 0, 0, 0, 0, 0, 0]), Core.Box(CTBase.BoundaryConstraint[CTBase.BoundaryConstraint{Fixed}(CTBase.var\"#67#71\"(Core.Box(1:9)))])), Real[0, 0, 0, 0, 0, 0, 0, 0, 0]), (Real[], CTBase.var\"#θ#45\"(Core.Box(Real[]), Core.Box(CTBase.VariableConstraint[])), Real[]), (Real[], Int64[], Real[]), (Real[], Int64[], Real[]), (Real[], Int64[], Real[]), false, false, true, false, false, false, 0, 0, 0, 0, 0, 0, 0, 0, 9, 10, 4, 0, 9, 100, [0.0, 0.01, 0.02, 0.03, 0.04, 0.05, 0.06, 0.07, 0.08, 0.09  …  0.91, 0.92, 0.93, 0.94, 0.95, 0.96, 0.97, 0.98, 0.99, 1.0], 1414, 1010, [-Inf, -Inf, -Inf, -Inf, -Inf, -Inf, -Inf, -Inf, -Inf, -Inf  …  -Inf, -Inf, -Inf, -Inf, -Inf, -Inf, -Inf, -Inf, -Inf, -Inf], [Inf, Inf, Inf, Inf, Inf, Inf, Inf, Inf, Inf, Inf  …  Inf, Inf, Inf, Inf, Inf, Inf, Inf, Inf, Inf, Inf], [0.0, 0.0, 0.0, 0.0, 0.0, 0.0, 0.0, 0.0, 0.0, 0.0  …  0.0, 0.0, 0.0, 0.0, 0.0, 0.0, 0.0, 0.0, 0.0, 0.0], [0.0, 0.0, 0.0, 0.0, 0.0, 0.0, 0.0, 0.0, 0.0, 0.0  …  0.0, 0.0, 0.0, 0.0, 0.0, 0.0, 0.0, 0.0, 0.0, 0.0]), ADNLPModel - Model with automatic differentiation backend ADModelBackend{\n",
       "  ReverseDiffADGradient,\n",
       "  ReverseDiffADHvprod,\n",
       "  ForwardDiffADJprod,\n",
       "  ReverseDiffADJtprod,\n",
       "  SparseADJacobian,\n",
       "  SparseReverseADHessian,\n",
       "  ForwardDiffADGHjvprod,\n",
       "}\n",
       "  Problem name: Generic\n",
       "   All variables: ████████████████████ 1414   All constraints: ████████████████████ 1010  \n",
       "            free: ████████████████████ 1414              free: ⋅⋅⋅⋅⋅⋅⋅⋅⋅⋅⋅⋅⋅⋅⋅⋅⋅⋅⋅⋅ 0     \n",
       "           lower: ⋅⋅⋅⋅⋅⋅⋅⋅⋅⋅⋅⋅⋅⋅⋅⋅⋅⋅⋅⋅ 0                lower: ⋅⋅⋅⋅⋅⋅⋅⋅⋅⋅⋅⋅⋅⋅⋅⋅⋅⋅⋅⋅ 0     \n",
       "           upper: ⋅⋅⋅⋅⋅⋅⋅⋅⋅⋅⋅⋅⋅⋅⋅⋅⋅⋅⋅⋅ 0                upper: ⋅⋅⋅⋅⋅⋅⋅⋅⋅⋅⋅⋅⋅⋅⋅⋅⋅⋅⋅⋅ 0     \n",
       "         low/upp: ⋅⋅⋅⋅⋅⋅⋅⋅⋅⋅⋅⋅⋅⋅⋅⋅⋅⋅⋅⋅ 0              low/upp: ⋅⋅⋅⋅⋅⋅⋅⋅⋅⋅⋅⋅⋅⋅⋅⋅⋅⋅⋅⋅ 0     \n",
       "           fixed: ⋅⋅⋅⋅⋅⋅⋅⋅⋅⋅⋅⋅⋅⋅⋅⋅⋅⋅⋅⋅ 0                fixed: ████████████████████ 1010  \n",
       "          infeas: ⋅⋅⋅⋅⋅⋅⋅⋅⋅⋅⋅⋅⋅⋅⋅⋅⋅⋅⋅⋅ 0               infeas: ⋅⋅⋅⋅⋅⋅⋅⋅⋅⋅⋅⋅⋅⋅⋅⋅⋅⋅⋅⋅ 0     \n",
       "            nnzh: ( 99.80% sparsity)   2020            linear: ⋅⋅⋅⋅⋅⋅⋅⋅⋅⋅⋅⋅⋅⋅⋅⋅⋅⋅⋅⋅ 0     \n",
       "                                                    nonlinear: ████████████████████ 1010  \n",
       "                                                         nnzj: ( 99.37% sparsity)   9010  \n",
       "\n",
       "  Counters:\n",
       "             obj: ⋅⋅⋅⋅⋅⋅⋅⋅⋅⋅⋅⋅⋅⋅⋅⋅⋅⋅⋅⋅ 0                 grad: ⋅⋅⋅⋅⋅⋅⋅⋅⋅⋅⋅⋅⋅⋅⋅⋅⋅⋅⋅⋅ 0                 cons: ⋅⋅⋅⋅⋅⋅⋅⋅⋅⋅⋅⋅⋅⋅⋅⋅⋅⋅⋅⋅ 0     \n",
       "        cons_lin: ⋅⋅⋅⋅⋅⋅⋅⋅⋅⋅⋅⋅⋅⋅⋅⋅⋅⋅⋅⋅ 0             cons_nln: ⋅⋅⋅⋅⋅⋅⋅⋅⋅⋅⋅⋅⋅⋅⋅⋅⋅⋅⋅⋅ 0                 jcon: ⋅⋅⋅⋅⋅⋅⋅⋅⋅⋅⋅⋅⋅⋅⋅⋅⋅⋅⋅⋅ 0     \n",
       "           jgrad: ⋅⋅⋅⋅⋅⋅⋅⋅⋅⋅⋅⋅⋅⋅⋅⋅⋅⋅⋅⋅ 0                  jac: ⋅⋅⋅⋅⋅⋅⋅⋅⋅⋅⋅⋅⋅⋅⋅⋅⋅⋅⋅⋅ 0              jac_lin: ⋅⋅⋅⋅⋅⋅⋅⋅⋅⋅⋅⋅⋅⋅⋅⋅⋅⋅⋅⋅ 0     \n",
       "         jac_nln: ⋅⋅⋅⋅⋅⋅⋅⋅⋅⋅⋅⋅⋅⋅⋅⋅⋅⋅⋅⋅ 0                jprod: ⋅⋅⋅⋅⋅⋅⋅⋅⋅⋅⋅⋅⋅⋅⋅⋅⋅⋅⋅⋅ 0            jprod_lin: ⋅⋅⋅⋅⋅⋅⋅⋅⋅⋅⋅⋅⋅⋅⋅⋅⋅⋅⋅⋅ 0     \n",
       "       jprod_nln: ⋅⋅⋅⋅⋅⋅⋅⋅⋅⋅⋅⋅⋅⋅⋅⋅⋅⋅⋅⋅ 0               jtprod: ⋅⋅⋅⋅⋅⋅⋅⋅⋅⋅⋅⋅⋅⋅⋅⋅⋅⋅⋅⋅ 0           jtprod_lin: ⋅⋅⋅⋅⋅⋅⋅⋅⋅⋅⋅⋅⋅⋅⋅⋅⋅⋅⋅⋅ 0     \n",
       "      jtprod_nln: ⋅⋅⋅⋅⋅⋅⋅⋅⋅⋅⋅⋅⋅⋅⋅⋅⋅⋅⋅⋅ 0                 hess: ⋅⋅⋅⋅⋅⋅⋅⋅⋅⋅⋅⋅⋅⋅⋅⋅⋅⋅⋅⋅ 0                hprod: ⋅⋅⋅⋅⋅⋅⋅⋅⋅⋅⋅⋅⋅⋅⋅⋅⋅⋅⋅⋅ 0     \n",
       "           jhess: ⋅⋅⋅⋅⋅⋅⋅⋅⋅⋅⋅⋅⋅⋅⋅⋅⋅⋅⋅⋅ 0               jhprod: ⋅⋅⋅⋅⋅⋅⋅⋅⋅⋅⋅⋅⋅⋅⋅⋅⋅⋅⋅⋅ 0     \n",
       ")"
      ]
     },
     "metadata": {},
     "output_type": "display_data"
    }
   ],
   "source": [
    "using OptimalControl\n",
    "include(\"quadrotor_OC.jl\");\n",
    "docp, model = quadrotor_OC(; nh=100)"
   ]
  },
  {
   "cell_type": "code",
   "execution_count": 6,
   "metadata": {},
   "outputs": [
    {
     "name": "stdout",
     "output_type": "stream",
     "text": [
      "This is Ipopt version 3.14.16, running with linear solver MUMPS 5.7.3.\n",
      "\n",
      "Number of nonzeros in equality constraint Jacobian...:     9010\n",
      "Number of nonzeros in inequality constraint Jacobian.:        0\n",
      "Number of nonzeros in Lagrangian Hessian.............:     2020\n",
      "\n",
      "Total number of variables............................:     1414\n",
      "                     variables with only lower bounds:        0\n",
      "                variables with lower and upper bounds:        0\n",
      "                     variables with only upper bounds:        0\n",
      "Total number of equality constraints.................:     1010\n",
      "Total number of inequality constraints...............:        0\n",
      "        inequality constraints with only lower bounds:        0\n",
      "   inequality constraints with lower and upper bounds:        0\n",
      "        inequality constraints with only upper bounds:        0\n",
      "\n",
      "iter    objective    inf_pr   inf_du lg(mu)  ||d||  lg(rg) alpha_du alpha_pr  ls\n",
      "   0  1.0000000e-01 5.88e+00 6.95e-01  -1.0 0.00e+00    -  0.00e+00 0.00e+00   0\n",
      "   1  1.3688953e-01 5.73e+00 2.95e+01  -1.0 1.70e+01   0.0 1.00e+00 3.12e-02h  6\n",
      "   2  2.4832581e-01 5.50e+00 1.80e+02  -1.0 2.78e+01   1.3 1.00e+00 6.25e-02h  5\n",
      "   3  6.6083015e-01 5.30e+00 7.92e+02  -1.0 1.26e+01   1.8 1.00e+00 2.50e-01h  3\n",
      "   4  1.2463933e+00 5.21e+00 4.75e+03  -1.0 8.32e+00   2.2 1.00e+00 5.00e-01h  2\n",
      "   5  1.9282402e+00 4.94e+00 1.07e+04  -1.0 8.54e+00   2.6 1.00e+00 2.50e-01h  3\n",
      "   6  2.7157203e+02 4.09e+01 2.55e+04  -1.0 5.39e+02    -  1.00e+00 5.00e-01h  2\n",
      "   7  2.7218664e+02 3.24e+01 1.11e+05  -1.0 1.47e+01   3.0 1.00e+00 2.50e-01h  3\n",
      "   8  2.7295809e+02 2.56e+01 6.28e+05  -1.0 1.33e+01   4.4 1.00e+00 2.50e-01h  3\n",
      "   9  2.7615429e+02 2.01e+01 1.81e+06  -1.0 1.28e+01   4.8 1.00e+00 2.50e-01h  3\n",
      "iter    objective    inf_pr   inf_du lg(mu)  ||d||  lg(rg) alpha_du alpha_pr  ls\n",
      "  10  2.7740395e+02 1.87e+01 1.57e+06  -1.0 3.26e+01   4.3 1.00e+00 1.25e-01h  4\n",
      "  11  2.7824133e+02 8.47e+01 2.57e+08  -1.0 1.54e+01   5.6 1.00e+00 1.00e+00w  1\n",
      "  12  2.8728970e+02 2.62e+01 2.35e+08  -1.0 1.18e+01   5.2 1.00e+00 1.00e+00w  1\n",
      "  13  2.9031595e+02 9.04e+01 1.08e+09  -1.0 1.61e+01   6.5 1.00e+00 1.00e+00w  1\n",
      "  14  2.7750862e+02 1.67e+01 3.27e+06  -1.0 1.56e+01   7.8 1.00e+00 1.25e-01h  3\n",
      "  15  2.7756220e+02 1.50e+01 9.64e+07  -1.0 1.41e+01   7.3 1.00e+00 1.25e-01h  4\n",
      "  16  2.7799798e+02 1.42e+01 2.37e+08  -1.0 2.66e+01   6.9 1.00e+00 6.25e-02h  5\n",
      "  17  2.8489996e+02 1.62e+01 2.64e+08  -1.0 6.65e+01   6.4 1.00e+00 1.25e-01h  4\n",
      "  18  5.7835687e+02 2.14e+00 5.60e+08  -1.0 2.93e+02    -  1.00e+00 1.00e+00h  1\n",
      "  19  5.7843173e+02 1.02e+00 6.94e+08  -1.0 1.89e+00   7.7 1.00e+00 1.00e+00h  1\n",
      "iter    objective    inf_pr   inf_du lg(mu)  ||d||  lg(rg) alpha_du alpha_pr  ls\n",
      "  20  5.7843544e+02 6.38e-01 1.03e+08  -1.0 1.77e+00   7.2 1.00e+00 1.00e+00h  1\n",
      "  21  5.7843403e+02 4.09e-02 3.83e+07  -1.0 7.36e-01   6.8 1.00e+00 1.00e+00h  1\n",
      "  22  5.7843389e+02 5.25e-04 2.44e+05  -1.0 7.95e-02   6.3 1.00e+00 1.00e+00h  1\n",
      "  23  5.7843389e+02 4.37e-08 5.03e+02  -1.0 7.29e-04   5.8 1.00e+00 1.00e+00h  1\n",
      "  24  5.7743158e+02 1.03e-01 1.04e+00  -1.0 1.00e+00    -  1.00e+00 1.00e+00f  1\n",
      "  25  5.6337633e+02 2.13e+00 1.47e-01  -1.0 1.41e+01    -  1.00e+00 1.00e+00f  1\n",
      "  26  5.7049267e+02 1.49e-04 1.74e-04  -1.0 7.12e+00    -  1.00e+00 1.00e+00h  1\n",
      "  27  5.7049389e+02 6.20e-09 4.99e-09  -5.7 1.24e-03    -  1.00e+00 1.00e+00h  1\n",
      "\n",
      "Number of Iterations....: 27\n",
      "\n",
      "                                   (scaled)                 (unscaled)\n",
      "Objective...............:   5.7049389455706523e+02    5.7049389455706523e+02\n",
      "Dual infeasibility......:   4.9944478468862304e-09    4.9944478468862304e-09\n",
      "Constraint violation....:   6.1989950950191997e-09    6.1989950950191997e-09\n",
      "Variable bound violation:   0.0000000000000000e+00    0.0000000000000000e+00\n",
      "Complementarity.........:   0.0000000000000000e+00    0.0000000000000000e+00\n",
      "Overall NLP error.......:   6.1989950950191997e-09    6.1989950950191997e-09\n",
      "\n",
      "\n",
      "Number of objective function evaluations             = 76\n",
      "Number of objective gradient evaluations             = 28\n",
      "Number of equality constraint evaluations            = 78\n",
      "Number of inequality constraint evaluations          = 0\n",
      "Number of equality constraint Jacobian evaluations   = 28\n",
      "Number of inequality constraint Jacobian evaluations = 0\n",
      "Number of Lagrangian Hessian evaluations             = 27\n",
      "Total seconds in IPOPT                               = 2.897\n",
      "\n",
      "EXIT: Optimal Solution Found.\n"
     ]
    },
    {
     "data": {
      "text/plain": [
       "\"Execution stats: first-order stationary\""
      ]
     },
     "metadata": {},
     "output_type": "display_data"
    }
   ],
   "source": [
    "using NLPModelsIpopt\n",
    "nlp_sol = ipopt(model)"
   ]
  }
 ],
 "metadata": {
  "kernelspec": {
   "display_name": "Julia 1.10.4",
   "language": "julia",
   "name": "julia-1.10"
  },
  "language_info": {
   "file_extension": ".jl",
   "mimetype": "application/julia",
   "name": "julia",
   "version": "1.10.4"
  }
 },
 "nbformat": 4,
 "nbformat_minor": 2
}
