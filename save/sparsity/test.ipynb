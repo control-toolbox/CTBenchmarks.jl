{
 "cells": [
  {
   "cell_type": "code",
   "execution_count": 1,
   "metadata": {},
   "outputs": [
    {
     "name": "stderr",
     "output_type": "stream",
     "text": [
      "\u001b[32m\u001b[1m  Activating\u001b[22m\u001b[39m project at `c:\\Users\\hajje\\Dropbox\\PC\\Desktop\\Stage\\COTS`\n"
     ]
    }
   ],
   "source": [
    "import Pkg\n",
    "Pkg.activate(\"..\")\n",
    "nh=1;"
   ]
  },
  {
   "cell_type": "code",
   "execution_count": 2,
   "metadata": {},
   "outputs": [
    {
     "data": {
      "text/plain": [
       "rocket_init (generic function with 1 method)"
      ]
     },
     "metadata": {},
     "output_type": "display_data"
    }
   ],
   "source": [
    "using JuMP, NLPModelsJuMP, NLPModels, OptimalControl, SparseArrays\n",
    "\n",
    "include(\"./particle_JMP.jl\")\n",
    "include(\"./particle_OC.jl\")\n",
    "include(\"./rocket_JMP.jl\")\n",
    "include(\"./rocket_OC.jl\")\n"
   ]
  },
  {
   "cell_type": "code",
   "execution_count": 3,
   "metadata": {},
   "outputs": [
    {
     "data": {
      "text/plain": [
       "9×9 SparseMatrixCSC{Int64, Int64} with 45 stored entries:\n",
       " 1  ⋅  ⋅  ⋅  ⋅  ⋅  ⋅  ⋅  ⋅\n",
       " 1  1  ⋅  ⋅  ⋅  ⋅  ⋅  ⋅  ⋅\n",
       " 1  1  1  ⋅  ⋅  ⋅  ⋅  ⋅  ⋅\n",
       " 1  1  1  1  ⋅  ⋅  ⋅  ⋅  ⋅\n",
       " 1  1  1  1  1  ⋅  ⋅  ⋅  ⋅\n",
       " 1  1  1  1  1  1  ⋅  ⋅  ⋅\n",
       " 1  1  1  1  1  1  1  ⋅  ⋅\n",
       " 1  1  1  1  1  1  1  1  ⋅\n",
       " 1  1  2  2  1  1  2  2  1"
      ]
     },
     "metadata": {},
     "output_type": "display_data"
    },
    {
     "name": "stdout",
     "output_type": "stream",
     "text": [
      "[1.0, 1.0, 0.0, 0.0, 1.0, 0.6, 1.75, 1.75, 1.0]\n"
     ]
    }
   ],
   "source": [
    "jump_model = rocket_JMP(nh = nh)\n",
    "nlp_model = MathOptNLPModel(jump_model)\n",
    "println(get_x0(nlp_model))\n",
    "rows, cols = hess_structure(nlp_model)\n",
    "nnz_nlp = length(rows)\n",
    "vals = ones(Int64, nnz_nlp)\n",
    "nvar = MOI.get(jump_model, MOI.NumberOfVariables());\n",
    "H = sparse(rows, cols, vals, nvar, nvar)\n",
    "display(H)"
   ]
  },
  {
   "cell_type": "code",
   "execution_count": 4,
   "metadata": {},
   "outputs": [
    {
     "data": {
      "text/plain": [
       "9×9 SparseMatrixCSC{Int64, Int64} with 22 stored entries:\n",
       " 1  ⋅  ⋅  ⋅  ⋅  ⋅  ⋅  ⋅  ⋅\n",
       " 1  1  ⋅  ⋅  ⋅  ⋅  ⋅  ⋅  ⋅\n",
       " 1  1  1  ⋅  ⋅  ⋅  ⋅  ⋅  ⋅\n",
       " ⋅  ⋅  ⋅  1  ⋅  ⋅  ⋅  ⋅  ⋅\n",
       " ⋅  ⋅  ⋅  1  1  ⋅  ⋅  ⋅  ⋅\n",
       " ⋅  ⋅  ⋅  1  1  1  ⋅  ⋅  ⋅\n",
       " ⋅  ⋅  1  ⋅  ⋅  ⋅  ⋅  ⋅  ⋅\n",
       " ⋅  ⋅  ⋅  ⋅  ⋅  1  ⋅  ⋅  ⋅\n",
       " 1  1  1  1  1  1  1  1  ⋅"
      ]
     },
     "metadata": {},
     "output_type": "display_data"
    },
    {
     "name": "stdout",
     "output_type": "stream",
     "text": [
      "[1.0, 0.0, 1.0, 1.0, 0.0, 0.6, 1.75, 1.75, 1.0]\n"
     ]
    }
   ],
   "source": [
    "opt_model = rocket_OC()\n",
    "init = rocket_init(nh=nh)\n",
    "nlp = get_nlp(direct_transcription(opt_model,grid_size=nh,init=init))\n",
    "println(get_x0(nlp))\n",
    "rows, cols = hess_structure(nlp)\n",
    "nnz_nlp = length(rows)\n",
    "vals = ones(Int64, nnz_nlp)\n",
    "nvar = nlp.meta.nvar\n",
    "H = sparse(rows, cols, vals, nvar, nvar)\n",
    "display(H)"
   ]
  },
  {
   "cell_type": "code",
   "execution_count": 5,
   "metadata": {},
   "outputs": [
    {
     "data": {
      "text/plain": [
       "7×7 SparseMatrixCSC{Int64, Int64} with 15 stored entries:\n",
       " ⋅  ⋅  ⋅  ⋅  ⋅  ⋅  ⋅\n",
       " ⋅  ⋅  ⋅  ⋅  ⋅  ⋅  ⋅\n",
       " ⋅  ⋅  1  ⋅  ⋅  ⋅  ⋅\n",
       " ⋅  ⋅  1  1  ⋅  ⋅  ⋅\n",
       " ⋅  ⋅  1  1  1  ⋅  ⋅\n",
       " ⋅  ⋅  1  1  1  1  ⋅\n",
       " ⋅  ⋅  2  2  2  2  1"
      ]
     },
     "metadata": {},
     "output_type": "display_data"
    },
    {
     "name": "stdout",
     "output_type": "stream",
     "text": [
      "[1.0, 1.0, 1.0, 1.0, 0.0, 0.0, 1.0]\n"
     ]
    }
   ],
   "source": [
    "jump_model = dielectrophoretic_particle_JMP(nh = nh)\n",
    "nlp_model = MathOptNLPModel(jump_model)\n",
    "println(get_x0(nlp_model))\n",
    "rows, cols = hess_structure(nlp_model)\n",
    "nnz_nlp = length(rows)\n",
    "vals = ones(Int64, nnz_nlp)\n",
    "nvar = MOI.get(jump_model, MOI.NumberOfVariables());\n",
    "H = sparse(rows, cols, vals, nvar, nvar)\n",
    "display(H)"
   ]
  },
  {
   "cell_type": "code",
   "execution_count": 6,
   "metadata": {},
   "outputs": [
    {
     "data": {
      "text/plain": [
       "7×7 SparseMatrixCSC{Int64, Int64} with 8 stored entries:\n",
       " ⋅  ⋅  ⋅  ⋅  ⋅  ⋅  ⋅\n",
       " ⋅  ⋅  ⋅  ⋅  ⋅  ⋅  ⋅\n",
       " ⋅  ⋅  ⋅  ⋅  ⋅  ⋅  ⋅\n",
       " ⋅  ⋅  ⋅  ⋅  ⋅  ⋅  ⋅\n",
       " ⋅  1  ⋅  ⋅  1  ⋅  ⋅\n",
       " ⋅  ⋅  ⋅  1  ⋅  1  ⋅\n",
       " ⋅  1  ⋅  1  1  1  ⋅"
      ]
     },
     "metadata": {},
     "output_type": "display_data"
    },
    {
     "name": "stdout",
     "output_type": "stream",
     "text": [
      "[1.0, 1.0, 1.0, 1.0, 0.0, 0.0, 1.0]\n"
     ]
    }
   ],
   "source": [
    "opt_model = dielectrophoretic_particle_OC()\n",
    "init = dielectrophoretic_particle_init(nh=nh)\n",
    "nlp = get_nlp(direct_transcription(opt_model,grid_size=nh,init=init))\n",
    "println(get_x0(nlp))\n",
    "rows, cols = hess_structure(nlp)\n",
    "nnz_nlp = length(rows)\n",
    "vals = ones(Int64, nnz_nlp)\n",
    "nvar = nlp.meta.nvar\n",
    "H = sparse(rows, cols, vals, nvar, nvar)\n",
    "display(H)"
   ]
  }
 ],
 "metadata": {
  "kernelspec": {
   "display_name": "Julia 1.10.4",
   "language": "julia",
   "name": "julia-1.10"
  },
  "language_info": {
   "file_extension": ".jl",
   "mimetype": "application/julia",
   "name": "julia",
   "version": "1.10.4"
  }
 },
 "nbformat": 4,
 "nbformat_minor": 2
}
