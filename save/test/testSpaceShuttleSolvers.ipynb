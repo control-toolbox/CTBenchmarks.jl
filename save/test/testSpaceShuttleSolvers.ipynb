{
 "cells": [
  {
   "cell_type": "markdown",
   "metadata": {},
   "source": [
    "<div style=\"width:90%;\n",
    "            margin:10px;\n",
    "            padding:8px;\n",
    "            border:2px solid #FF0000;\n",
    "            border-radius:20px;\n",
    "            font-weight:bold;\n",
    "            font-size:2.5em;\n",
    "            text-align:center;\">\n",
    "The Space Shuttle Reentry Problem Using JuMP with different solvers\n",
    "</div>\n"
   ]
  },
  {
   "cell_type": "markdown",
   "metadata": {},
   "source": [
    "<div style=\"width:90%;\n",
    "            margin:9px;\n",
    "            font-size:1em;\">\n",
    "            \n",
    "The aim here is to compare the results of different solvers for the same problem: the space shuttle reentry problem using JuMP. For the integration method, we will use the trapezoidal rule. \n",
    "\n",
    "1. [Comparing Linear Solvers](#ls)\n",
    "2. [Comparing Non Linear Solvers](#nls)\n",
    "3. [Results](#res)\n",
    "\n",
    "\n",
    "</div>"
   ]
  },
  {
   "cell_type": "markdown",
   "metadata": {},
   "source": [
    "### Importing the Model"
   ]
  },
  {
   "cell_type": "code",
   "execution_count": 1,
   "metadata": {},
   "outputs": [
    {
     "name": "stderr",
     "output_type": "stream",
     "text": [
      "\u001b[32m\u001b[1m  Activating\u001b[22m\u001b[39m project at `c:\\Users\\hajje\\Dropbox\\PC\\Desktop\\Stage\\COTS`\n"
     ]
    }
   ],
   "source": [
    "import Pkg\n",
    "Pkg.activate(\"..\")\n",
    "include(\"./utils.jl\");\n",
    "using OptimalControlProblems\n",
    "using Plots\n",
    "using MKL\n",
    "using JuMP, Ipopt\n",
    "import HSL_jll\n",
    "using DataFrames, BenchmarkTools\n",
    "using PrettyTables, Colors\n",
    "\n",
    "nh = 200;\n",
    "results = DataFrame( :method => String[], \n",
    "                    :total_time => String[],\n",
    "                    :objective_value => Float64[],\n",
    "                    :iterations => Int64[]);\n"
   ]
  },
  {
   "cell_type": "markdown",
   "metadata": {},
   "source": [
    "## 1. Comparing Linear Solvers : MUMPS, HSL_MA57 and HSL_MA27  <a id=\"ls\"></a>"
   ]
  },
  {
   "cell_type": "markdown",
   "metadata": {},
   "source": [
    "#### 1. MUMPS"
   ]
  },
  {
   "cell_type": "code",
   "execution_count": 2,
   "metadata": {},
   "outputs": [],
   "source": [
    "model = space_shuttle(JuMPBackend();integration_rule=\"trapezoidal\")\n",
    "set_silent(model)\n",
    "set_optimizer(model,Ipopt.Optimizer)\n",
    "set_optimizer_attribute(model, \"sb\", \"yes\")\n",
    "set_optimizer_attribute(model,\"linear_solver\", \"mumps\")\n",
    "b = @benchmark optimize!(model) evals=1 samples=1\n",
    "push!(results,[\"Ipopt + MUMPS\",\n",
    "                prettytime(b.times[1]),\n",
    "                round(objective_value(model) |> rad2deg;digits=7),\n",
    "                solution_summary(model).barrier_iterations\n",
    "                ]);"
   ]
  },
  {
   "cell_type": "markdown",
   "metadata": {},
   "source": [
    "#### 2. HSL_MA57"
   ]
  },
  {
   "cell_type": "code",
   "execution_count": 3,
   "metadata": {},
   "outputs": [],
   "source": [
    "model = space_shuttle(JuMPBackend();integration_rule=\"trapezoidal\")\n",
    "set_silent(model)\n",
    "set_optimizer(model,Ipopt.Optimizer)\n",
    "set_attribute(model, \"hsllib\", HSL_jll.libhsl_path)\n",
    "set_attribute(model, \"linear_solver\", \"ma57\")\n",
    "b = @benchmark optimize!(model) evals=1 samples=1\n",
    "push!(results,[\"Ipopt + HSL_MA57\",\n",
    "                prettytime(b.times[1]),\n",
    "                round(objective_value(model) |> rad2deg;digits=7),\n",
    "                solution_summary(model).barrier_iterations\n",
    "                ]);"
   ]
  },
  {
   "cell_type": "markdown",
   "metadata": {},
   "source": [
    "#### 3. HSL_MA27"
   ]
  },
  {
   "cell_type": "code",
   "execution_count": 4,
   "metadata": {},
   "outputs": [],
   "source": [
    "model = space_shuttle(JuMPBackend();integration_rule=\"trapezoidal\")\n",
    "set_silent(model)\n",
    "set_optimizer(model,Ipopt.Optimizer)\n",
    "set_attribute(model, \"hsllib\", HSL_jll.libhsl_path)\n",
    "set_attribute(model, \"linear_solver\", \"ma27\")\n",
    "b = @benchmark optimize!(model) evals=1 samples=1\n",
    "push!(results,[\"Ipopt + HSL_MA27\",\n",
    "                prettytime(b.times[1]),\n",
    "                round(objective_value(model) |> rad2deg;digits=7),\n",
    "                solution_summary(model).barrier_iterations\n",
    "                ]);"
   ]
  },
  {
   "cell_type": "markdown",
   "metadata": {},
   "source": [
    "## 1. Results <a id=\"res\"></a>"
   ]
  },
  {
   "cell_type": "code",
   "execution_count": 6,
   "metadata": {},
   "outputs": [
    {
     "name": "stdout",
     "output_type": "stream",
     "text": [
      "╭──────────────────┬──────────────┬─────────────────┬────────────╮\n",
      "│\u001b[33;1m           Method \u001b[0m│\u001b[33;1m   Total Time \u001b[0m│\u001b[33;1m Objective Value \u001b[0m│\u001b[33;1m Iterations \u001b[0m│\n",
      "├──────────────────┼──────────────┼─────────────────┼────────────┤\n",
      "│    Ipopt + MUMPS │ 11.4542308 s │      34.1411822 │        124 │\n",
      "│ Ipopt + HSL_MA57 │  9.4139305 s │      34.1411822 │        124 │\n",
      "│ Ipopt + HSL_MA27 │ 11.6510529 s │      34.1411822 │        124 │\n",
      "╰──────────────────┴──────────────┴─────────────────┴────────────╯\n"
     ]
    }
   ],
   "source": [
    "# Define the custom display function\n",
    "hl_v1 = Highlighter(\n",
    "           (results, i, j) -> (j == 3) && (round(results[i, j],digits=4) != 34.1412),\n",
    "           crayon\"red bold\"\n",
    "       );\n",
    "hl_v2 = Highlighter(\n",
    "            (results, i, j) -> (j == 3) && (results[i, j] != 34.1411822),\n",
    "            crayon\"red\"\n",
    "        );\n",
    "header = [\"Method\", \"Total Time\", \"Objective Value\", \"Iterations\"];\n",
    "# Apply the custom display function to the :objective_value column\n",
    "pretty_table(\n",
    "    results;\n",
    "    formatters    = ft_printf(\"%.7f\", 2:3),\n",
    "    header        = header,\n",
    "    header_crayon = crayon\"yellow bold\",\n",
    "    highlighters  = (hl_v1, hl_v2),\n",
    "    tf            = tf_unicode_rounded\n",
    ")"
   ]
  }
 ],
 "metadata": {
  "kernelspec": {
   "display_name": "Julia 1.10.4",
   "language": "julia",
   "name": "julia-1.10"
  },
  "language_info": {
   "file_extension": ".jl",
   "mimetype": "application/julia",
   "name": "julia",
   "version": "1.10.4"
  }
 },
 "nbformat": 4,
 "nbformat_minor": 2
}
