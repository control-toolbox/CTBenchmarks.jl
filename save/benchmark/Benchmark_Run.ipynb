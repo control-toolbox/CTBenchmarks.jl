{
 "cells": [
  {
   "cell_type": "code",
   "execution_count": 1,
   "metadata": {},
   "outputs": [
    {
     "name": "stderr",
     "output_type": "stream",
     "text": [
      "\u001b[32m\u001b[1m  Activating\u001b[22m\u001b[39m project at `c:\\Users\\hajje\\Dropbox\\PC\\Desktop\\Stage\\COTS`\n"
     ]
    },
    {
     "data": {
      "text/plain": [
       "Main.Benchmark"
      ]
     },
     "metadata": {},
     "output_type": "display_data"
    }
   ],
   "source": [
    "include(\"./Benchmark.jl\")"
   ]
  },
  {
   "cell_type": "code",
   "execution_count": 2,
   "metadata": {},
   "outputs": [
    {
     "name": "stdout",
     "output_type": "stream",
     "text": [
      "Benchmarking the model cart_pendulum ... ✅\n",
      "Benchmarking the model jackson ... ❌\n",
      "Benchmarking the model vanderpol ... ❌\n",
      "Benchmarking the model robot ... ✅\n",
      "Benchmarking the model insurance ... ✅\n",
      "Benchmarking the model quadrotor ... ❌\n",
      "Benchmarking the model robbins ... ✅\n",
      "Benchmarking the model electrical_vehicle ... ✅\n",
      "Benchmarking the model moonlander ... ❌\n",
      "Benchmarking the model double_oscillator ... ✅\n",
      "Benchmarking the model ducted_fan ... ✅\n",
      "Benchmarking the model steering ... ✅\n",
      "Benchmarking the model glider ... ❌\n",
      "Benchmarking the model truck_trailer ... ❌\n",
      "Benchmarking the model rocket ... ✅\n",
      "Benchmarking the model chain ... ✅\n",
      "Benchmarking the model bioreactor ... ❌\n",
      "Benchmarking the model beam ... ✅\n",
      "Benchmarking the model dielectrophoretic_particle ... ✅\n",
      "Benchmarking the model space_shuttle ... ❌\n"
     ]
    }
   ],
   "source": [
    "Benchmark.Benchmark_JuMP()"
   ]
  },
  {
   "cell_type": "code",
   "execution_count": 4,
   "metadata": {},
   "outputs": [
    {
     "name": "stdout",
     "output_type": "stream",
     "text": [
      "Benchmarking the model cart_pendulum ... ✅\n",
      "Benchmarking the model jackson ... ❌\n",
      "Benchmarking the model vanderpol ... ❌\n",
      "Benchmarking the model robot ... ✅\n",
      "Benchmarking the model insurance ... ✅\n",
      "Benchmarking the model quadrotor ... ❌\n",
      "Benchmarking the model robbins ... ✅\n",
      "Benchmarking the model electrical_vehicle ... ✅\n",
      "Benchmarking the model moonlander ... ❌\n",
      "Benchmarking the model double_oscillator ... ✅\n",
      "Benchmarking the model ducted_fan ... ✅\n",
      "Benchmarking the model steering ... ✅\n",
      "Benchmarking the model glider ... ❌\n",
      "Benchmarking the model truck_trailer ... ❌\n",
      "Benchmarking the model rocket ... ✅\n",
      "Benchmarking the model chain ... ✅\n",
      "Benchmarking the model bioreactor ... ❌\n",
      "Benchmarking the model beam ... ✅\n",
      "Benchmarking the model dielectrophoretic_particle ... ✅\n",
      "Benchmarking the model space_shuttle ... ❌\n"
     ]
    }
   ],
   "source": [
    "Benchmark.Benchmark_OC()"
   ]
  },
  {
   "cell_type": "code",
   "execution_count": 5,
   "metadata": {},
   "outputs": [
    {
     "name": "stdout",
     "output_type": "stream",
     "text": [
      "Benchmarking the model electrical_vehicle with OptimalControl (100)... ✅\n",
      "Benchmarking the model electrical_vehicle with JuMP (100)... ✅\n",
      "Benchmarking the model electrical_vehicle with OptimalControl (400)... ✅\n",
      "Benchmarking the model electrical_vehicle with JuMP (400)... ✅\n",
      "Benchmarking the model rocket with OptimalControl (100)... ✅\n",
      "Benchmarking the model rocket with JuMP (100)... ✅\n",
      "Benchmarking the model rocket with OptimalControl (400)... ✅\n",
      "Benchmarking the model rocket with JuMP (400)... ✅\n",
      "Benchmarking the model beam with OptimalControl (100)... ✅\n",
      "Benchmarking the model beam with JuMP (100)... ✅\n",
      "Benchmarking the model beam with OptimalControl (400)... ✅\n",
      "Benchmarking the model beam with JuMP (400)... ✅\n",
      "Benchmarking the model robot with OptimalControl (100)... ✅\n",
      "Benchmarking the model robot with JuMP (100)... ✅\n",
      "Benchmarking the model robot with OptimalControl (400)... ✅\n",
      "Benchmarking the model robot with JuMP (400)... ✅\n"
     ]
    }
   ],
   "source": [
    "Benchmark.Benchmark_model([:electrical_vehicle;:rocket;:beam;:robot;],[100;400])"
   ]
  },
  {
   "cell_type": "code",
   "execution_count": 6,
   "metadata": {},
   "outputs": [
    {
     "name": "stdout",
     "output_type": "stream",
     "text": [
      "Benchmarking the model chain with OptimalControl (100)... ✅\n",
      "Benchmarking the model chain with JuMP (100)... ✅\n",
      "Benchmarking the model chain with OptimalControl (400)... ✅\n",
      "Benchmarking the model chain with JuMP (400)... ✅\n",
      "Benchmarking the model chain with OptimalControl (500)... ✅\n",
      "Benchmarking the model chain with JuMP (500)... ✅\n",
      "Benchmarking the model chain with OptimalControl (1000)... ✅\n",
      "Benchmarking the model chain with JuMP (1000)... ✅\n",
      "Benchmarking the model rocket with OptimalControl (100)... ✅\n",
      "Benchmarking the model rocket with JuMP (100)... ✅\n",
      "Benchmarking the model rocket with OptimalControl (400)... ✅\n",
      "Benchmarking the model rocket with JuMP (400)... ✅\n",
      "Benchmarking the model rocket with OptimalControl (500)... ✅\n",
      "Benchmarking the model rocket with JuMP (500)... ✅\n",
      "Benchmarking the model rocket with OptimalControl (1000)... ✅\n",
      "Benchmarking the model rocket with JuMP (1000)... ✅\n",
      "Benchmarking the model steering with OptimalControl (100)... ✅\n",
      "Benchmarking the model steering with JuMP (100)... ✅\n",
      "Benchmarking the model steering with OptimalControl (400)... ✅\n",
      "Benchmarking the model steering with JuMP (400)... ✅\n",
      "Benchmarking the model steering with OptimalControl (500)... ✅\n",
      "Benchmarking the model steering with JuMP (500)... ✅\n",
      "Benchmarking the model steering with OptimalControl (1000)... ✅\n",
      "Benchmarking the model steering with JuMP (1000)... ✅\n",
      "Benchmarking the model electrical_vehicle with OptimalControl (100)... ✅\n",
      "Benchmarking the model electrical_vehicle with JuMP (100)... ✅\n",
      "Benchmarking the model electrical_vehicle with OptimalControl (400)... ✅\n",
      "Benchmarking the model electrical_vehicle with JuMP (400)... ✅\n",
      "Benchmarking the model electrical_vehicle with OptimalControl (500)... ✅\n",
      "Benchmarking the model electrical_vehicle with JuMP (500)... ✅\n",
      "Benchmarking the model electrical_vehicle with OptimalControl (1000)... ✅\n",
      "Benchmarking the model electrical_vehicle with JuMP (1000)... ✅\n"
     ]
    }
   ],
   "source": [
    "Benchmark.Benchmark_model_TTonly([:chain;:rocket;:steering;:electrical_vehicle;],[100;400;500;1000])"
   ]
  },
  {
   "cell_type": "code",
   "execution_count": 7,
   "metadata": {},
   "outputs": [
    {
     "name": "stdout",
     "output_type": "stream",
     "text": [
      "Benchmarking rocket model's callbacks with OptimalControl (100)... ✅\n",
      "Benchmarking rocket model's callbacks with JuMP (100)... ✅\n",
      "Benchmarking rocket model's callbacks with OptimalControl (500)... ✅\n",
      "Benchmarking rocket model's callbacks with JuMP (500)... ✅\n"
     ]
    }
   ],
   "source": [
    "Benchmark.Benchmark_Callbacks(:rocket , [100;500])"
   ]
  },
  {
   "cell_type": "code",
   "execution_count": 8,
   "metadata": {},
   "outputs": [
    {
     "name": "stdout",
     "output_type": "stream",
     "text": [
      "Benchmarking the model rocket with OptimalControl (50)... \n",
      "=======================================\n",
      "            Student License\n",
      "       (NOT FOR COMMERCIAL USE)\n",
      "         Artelys Knitro 14.0.0\n",
      "=======================================\n",
      "\n",
      "Knitro presolve eliminated 0 variables and 0 constraints.\n",
      "\n",
      "hessian_no_f:            1\n",
      "numthreads:              1\n",
      "Knitro shifted start point to satisfy presolved bounds (153 variables).\n",
      "\n",
      "Problem Characteristics                                 (   Presolved)\n",
      "-----------------------\n",
      "Objective goal:  Minimize\n",
      "Objective type:  general\n",
      "Number of variables:                                205 (         205)\n",
      "    bounded below only:                             103 (         103)\n",
      "    bounded above only:                               0 (           0)\n",
      "    bounded below and above:                        102 (         102)\n",
      "    fixed:                                            0 (           0)\n",
      "    free:                                             0 (           0)\n",
      "Number of constraints:                              154 (         154)\n",
      "    linear equalities:                                0 (           0)\n",
      "    quadratic equalities:                             0 (           0)\n",
      "    gen. nonlinear equalities:                      154 (         154)\n",
      "    linear one-sided inequalities:                    0 (           0)\n",
      "    quadratic one-sided inequalities:                 0 (           0)\n",
      "    gen. nonlinear one-sided inequalities:            0 (           0)\n",
      "    linear two-sided inequalities:                    0 (           0)\n",
      "    quadratic two-sided inequalities:                 0 (           0)\n",
      "    gen. nonlinear two-sided inequalities:            0 (           0)\n",
      "Number of nonzeros in Jacobian:                     954 (         954)\n",
      "Number of nonzeros in Hessian:                      561 (         561)\n",
      "\n",
      "Knitro using the Interior-Point/Barrier Direct algorithm.\n",
      "\n",
      "  Iter      Objective      FeasError   OptError    ||Step||    CGits \n",
      "--------  --------------  ----------  ----------  ----------  -------\n",
      "       0   -1.990000e+00   9.900e-01\n",
      "      10   -1.010911e+00   3.240e-04   2.130e-01   2.151e+00        0\n",
      "      17   -1.012817e+00   4.070e-08   8.017e-08   6.832e-02        0\n",
      "\n",
      "EXIT: Locally optimal solution found.\n",
      "\n",
      "Final Statistics\n",
      "----------------\n",
      "Final objective value               =  -1.01281710519208e+00\n",
      "Final feasibility error (abs / rel) =   4.07e-08 / 4.07e-08\n",
      "Final optimality error  (abs / rel) =   8.02e-08 / 8.02e-08\n",
      "# of iterations                     =         17 \n",
      "# of CG iterations                  =          0 \n",
      "# of function evaluations           =         19\n",
      "# of gradient evaluations           =         19\n",
      "# of Hessian evaluations            =         17\n",
      "Total program time (secs)           =       0.379 (     0.188 CPU time)\n",
      "Time spent in evaluations (secs)    =       0.028\n",
      "\n",
      "===============================================================================\n",
      "\n",
      "✅\n",
      "Benchmarking the model rocket with JuMP (50)... \n",
      "=======================================\n",
      "            Student License\n",
      "       (NOT FOR COMMERCIAL USE)\n",
      "         Artelys Knitro 14.0.0\n",
      "=======================================\n",
      "\n",
      "Knitro presolve eliminated 4 variables and 4 constraints.\n",
      "\n",
      "datacheck:               0\n",
      "hessian_no_f:            1\n",
      "numthreads:              1\n",
      "outmode:                 2\n",
      "Knitro fixing 4 variables eliminated from the presolve.\n",
      "\n",
      "Problem Characteristics                                 (   Presolved)\n",
      "-----------------------\n",
      "Objective goal:  Maximize\n",
      "Objective type:  linear\n",
      "Number of variables:                                205 (         201)\n",
      "    bounded below only:                             103 (         101)\n",
      "    bounded above only:                               0 (           0)\n",
      "    bounded below and above:                        102 (         100)\n",
      "    fixed:                                            0 (           0)\n",
      "    free:                                             0 (           0)\n",
      "Number of constraints:                              154 (         150)\n",
      "    linear equalities:                                4 (           0)\n",
      "    quadratic equalities:                           100 (         100)\n",
      "    gen. nonlinear equalities:                       50 (          50)\n",
      "    linear one-sided inequalities:                    0 (           0)\n",
      "    quadratic one-sided inequalities:                 0 (           0)\n",
      "    gen. nonlinear one-sided inequalities:            0 (           0)\n",
      "    linear two-sided inequalities:                    0 (           0)\n",
      "    quadratic two-sided inequalities:                 0 (           0)\n",
      "    gen. nonlinear two-sided inequalities:            0 (           0)\n",
      "Number of nonzeros in Jacobian:                     954 (         942)\n",
      "Number of nonzeros in Hessian:                     1515 (        1482)\n",
      "\n",
      "Knitro using the Interior-Point/Barrier Direct algorithm.\n",
      "\n",
      "  Iter      Objective      FeasError   OptError    ||Step||    CGits \n",
      "--------  --------------  ----------  ----------  ----------  -------\n",
      "       0    1.000000e+00   4.622e-01\n",
      "      10    1.010077e+00   8.510e-04   1.891e-02   2.094e+00        0\n",
      "      17    1.012817e+00   2.328e-07   5.010e-07   1.624e-01        0\n",
      "\n",
      "EXIT: Locally optimal solution found.\n",
      "\n",
      "Final Statistics\n",
      "----------------\n",
      "Final objective value               =   1.01281710164002e+00\n",
      "Final feasibility error (abs / rel) =   2.33e-07 / 2.33e-07\n",
      "Final optimality error  (abs / rel) =   5.01e-07 / 5.01e-07\n",
      "# of iterations                     =         17 \n",
      "# of CG iterations                  =          1 \n",
      "# of function evaluations           =         25\n",
      "# of gradient evaluations           =         19\n",
      "# of Hessian evaluations            =         17\n",
      "Total program time (secs)           =       0.176 (     0.078 CPU time)\n",
      "Time spent in evaluations (secs)    =       0.153\n",
      "\n",
      "===============================================================================\n",
      "\n",
      "✅\n"
     ]
    }
   ],
   "source": [
    "Benchmark.Benchmark_KNITRO([:rocket], [50];display=true)"
   ]
  }
 ],
 "metadata": {
  "kernelspec": {
   "display_name": "Julia 1.10.4",
   "language": "julia",
   "name": "julia-1.10"
  },
  "language_info": {
   "file_extension": ".jl",
   "mimetype": "application/julia",
   "name": "julia",
   "version": "1.10.4"
  }
 },
 "nbformat": 4,
 "nbformat_minor": 2
}
