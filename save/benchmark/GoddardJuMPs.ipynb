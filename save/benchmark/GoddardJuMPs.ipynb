{
 "cells": [
  {
   "cell_type": "markdown",
   "metadata": {},
   "source": [
    "<div style=\"width:90%;\n",
    "            margin:10px;\n",
    "            padding:8px;\n",
    "            border:2px solid #FF0000;\n",
    "            border-radius:20px;\n",
    "            font-weight:bold;\n",
    "            font-size:2.5em;\n",
    "            text-align:center;\">\n",
    "JuMP benchmark : Best Linear solver, backend and solver\n",
    "\n",
    "<div style =\"width:90%;\n",
    "            font-size:0.75em;\n",
    "            text-align:center;\">\n",
    " <i>For Goddard Rocket Problem</i></div>\n",
    "</div>"
   ]
  },
  {
   "cell_type": "markdown",
   "metadata": {},
   "source": [
    "<div style=\"width:90%;\n",
    "            margin:9px;\n",
    "            font-size:1em;\">\n",
    "            \n",
    "We will compare the performance of different linear solvers, backends and solvers for the Goddard Rocket Problem using JuMP. The Goddard Rocket Problem is a classic optimal control problem where the goal is to maximize the final altitude of a rocket by controlling the thrust. \n",
    "\n",
    "1. [Linear solvers](#linear-solvers)\n",
    "2. [Backends](#backends)\n",
    "3. [Solvers](#solvers)\n",
    "\n",
    "</div>"
   ]
  },
  {
   "cell_type": "markdown",
   "metadata": {},
   "source": [
    "Importing the necessary packages and defining the problem\n",
    "\n"
   ]
  },
  {
   "cell_type": "code",
   "execution_count": 1,
   "metadata": {},
   "outputs": [
    {
     "name": "stderr",
     "output_type": "stream",
     "text": [
      "\u001b[32m\u001b[1m  Activating\u001b[22m\u001b[39m project at `c:\\Users\\hajje\\Dropbox\\PC\\Desktop\\Stage\\COTS`\n"
     ]
    }
   ],
   "source": [
    "using Pkg\n",
    "Pkg.activate(\"..\")\n",
    "\n",
    "using JuMP, OptimalControlProblems\n",
    "include(\"./linear_solver_variant.jl\")\n",
    "include(\"./backend_variant.jl\")\n",
    "include(\"./solver_variant.jl\")\n",
    "include(\"./utils.jl\")\n",
    "JuMPModel = rocket(JuMPBackend();nh=50)\n",
    "\n",
    "set_silent(JuMPModel)\n",
    "set_optimizer(JuMPModel,Ipopt.Optimizer)\n",
    "set_optimizer_attribute(JuMPModel,\"tol\",1e-8)\n",
    "set_optimizer_attribute(JuMPModel,\"constr_viol_tol\",1e-6)\n",
    "set_optimizer_attribute(JuMPModel,\"max_iter\",1000)\n",
    "set_optimizer_attribute(JuMPModel,\"sb\", \"yes\")\n"
   ]
  },
  {
   "cell_type": "markdown",
   "metadata": {},
   "source": [
    "## 1. Linear solver <a id='linear-solvers'></a>"
   ]
  },
  {
   "cell_type": "code",
   "execution_count": 2,
   "metadata": {},
   "outputs": [
    {
     "name": "stdout",
     "output_type": "stream",
     "text": [
      "Using Ipopt Solver :\n",
      "Solving With MUMPS...\n",
      "******************************************************************************\n",
      "This program contains Ipopt, a library for large-scale nonlinear optimization.\n",
      " Ipopt is released as open source code under the Eclipse Public License (EPL).\n",
      "         For more information visit https://github.com/coin-or/Ipopt\n",
      "******************************************************************************\n",
      "\n",
      "✅\n",
      "\n",
      "Solving With HSLMA57...✅\n",
      "\n",
      "Solving With HSLMA27...✅\n",
      "\n",
      "\u001b[34m-------------------------Results of Linear Solvers-------------------------\u001b[39m\n",
      "\u001b[1m3×4 DataFrame\u001b[0m\n",
      "\u001b[1m Row \u001b[0m│\u001b[1m method  \u001b[0m\u001b[1m diff_auto_time \u001b[0m\u001b[1m total_time  \u001b[0m\u001b[1m objective_value \u001b[0m\n",
      "     │\u001b[90m String  \u001b[0m\u001b[90m Float64        \u001b[0m\u001b[90m String      \u001b[0m\u001b[90m Float64         \u001b[0m\n",
      "─────┼───────────────────────────────────────────────────────\n",
      "   1 │ HSLMA27      0.0079999   7.8899 ms            1.01282\n",
      "   2 │ HSLMA57      0.00699997  8.20925 ms           1.01282\n",
      "   3 │ MUMPS        0.0109999   13.03375 ms          1.01282\n"
     ]
    }
   ],
   "source": [
    "sl_results,best_ls = linear_solver_variant(JuMPModel);"
   ]
  },
  {
   "cell_type": "code",
   "execution_count": 3,
   "metadata": {},
   "outputs": [
    {
     "name": "stdout",
     "output_type": "stream",
     "text": [
      "Picking the best linear solver: \n",
      "The best linear solver is HSLMA27\n"
     ]
    }
   ],
   "source": [
    "println(\"Picking the best linear solver: \")\n",
    "if best_ls == \"HSLMA27\" \n",
    "    println(\"The best linear solver is HSLMA27\")\n",
    "    set_attribute(JuMPModel, \"hsllib\", HSL_jll.libhsl_path)\n",
    "    set_attribute(JuMPModel, \"linear_solver\", \"ma27\")\n",
    "elseif best_ls == \"HSLMA57\"\n",
    "    println(\"The best linear solver is HSLMA57\")\n",
    "    set_attribute(JuMPModel, \"hsllib\", HSL_jll.libhsl_path)\n",
    "    set_attribute(JuMPModel, \"linear_solver\", \"ma57\")\n",
    "elseif best_ls == \"MUMPS\"\n",
    "    println(\"The best linear solver is MUMPS\")\n",
    "    set_attribute(JuMPModel, \"linear_solver\", \"mumps\")\n",
    "end"
   ]
  },
  {
   "cell_type": "markdown",
   "metadata": {},
   "source": [
    "## 2. Backends <a id='backends'></a>"
   ]
  },
  {
   "cell_type": "code",
   "execution_count": 4,
   "metadata": {},
   "outputs": [
    {
     "name": "stdout",
     "output_type": "stream",
     "text": [
      "Solving With : ExaModels...✅\n",
      "\n",
      "Solving With : JuMPDefault (MathOptInterface.Nonlinear.SparseReverseMode())...✅\n",
      "\n",
      "Solving With : SymbolicAD (MathOptSymbolicAD.DefaultBackend())...✅\n",
      "\n",
      "\u001b[34m-------------------------Results of Backends-------------------------\u001b[39m\n",
      "\u001b[1m3×4 DataFrame\u001b[0m\n",
      "\u001b[1m Row \u001b[0m│\u001b[1m method      \u001b[0m\u001b[1m diff_auto_time \u001b[0m\u001b[1m total_time \u001b[0m\u001b[1m objective_value \u001b[0m\n",
      "     │\u001b[90m String      \u001b[0m\u001b[90m Float64        \u001b[0m\u001b[90m String     \u001b[0m\u001b[90m Float64         \u001b[0m\n",
      "─────┼──────────────────────────────────────────────────────────\n",
      "   1 │ SymbolicAD       0.00699997  7.2113 ms           1.01282\n",
      "   2 │ JuMPDefault      0.00700021  7.3951 ms           1.01282\n",
      "   3 │ ExaModels        0.01        12.2675 ms          1.01282\n"
     ]
    }
   ],
   "source": [
    "be_results, best_backend = backend_variant(JuMPModel);"
   ]
  },
  {
   "cell_type": "code",
   "execution_count": 5,
   "metadata": {},
   "outputs": [
    {
     "name": "stdout",
     "output_type": "stream",
     "text": [
      "Picking the best backend: \n",
      "The best backend is SymbolicAD\n"
     ]
    }
   ],
   "source": [
    "println(\"Picking the best backend: \")\n",
    "if best_backend == \"SymbolicAD\" \n",
    "    println(\"The best backend is SymbolicAD\")\n",
    "    set_attribute(JuMPModel,\n",
    "            MOI.AutomaticDifferentiationBackend(),\n",
    "            MathOptSymbolicAD.DefaultBackend(),)\n",
    "elseif best_backend == \"JuMPDefault\"\n",
    "    println(\"The best backend is JuMPDefault\")\n",
    "    set_attribute(JuMPModel,\n",
    "            MOI.AutomaticDifferentiationBackend(),\n",
    "            MOI.Nonlinear.SparseReverseMode(),)\n",
    "elseif best_backend == \"ExaModels\"\n",
    "    println(\"The best linear solver is ExaModels\")\n",
    "    println(\"ExaModels works only with ipopt and madnlp solvers\")\n",
    "    println(\"For the sake of the rest of the benchmark, we'll use the 2nd best backend $((be_results[!,1])[2])\")\n",
    "    second_best_backend = (be_results[!,1])[2]\n",
    "    if second_best_backend == \"SymbolicAD\" \n",
    "        set_attribute(JuMPModel,\n",
    "                MOI.AutomaticDifferentiationBackend(),\n",
    "                MathOptSymbolicAD.DefaultBackend(),)\n",
    "    elseif second_best_backend == \"JuMPDefault\"\n",
    "        set_attribute(JuMPModel,\n",
    "                MOI.AutomaticDifferentiationBackend(),\n",
    "                MOI.Nonlinear.SparseReverseMode(),)\n",
    "    end\n",
    "end"
   ]
  },
  {
   "cell_type": "markdown",
   "metadata": {},
   "source": [
    "## 3. Solvers <a id='solvers'></a>"
   ]
  },
  {
   "cell_type": "code",
   "execution_count": 6,
   "metadata": {},
   "outputs": [
    {
     "name": "stdout",
     "output_type": "stream",
     "text": [
      "Solving With Ipopt...✅\n",
      "\n",
      "Solving With MadNLP...✅\n",
      "\n",
      "Solving With KNITRO_SQP...✅\n",
      "\n",
      "Solving With KNITRO_IPM...✅\n",
      "\n",
      "\u001b[34m-------------------------Results of Solvers-------------------------\u001b[39m\n",
      "\u001b[1m4×4 DataFrame\u001b[0m\n",
      "\u001b[1m Row \u001b[0m│\u001b[1m method     \u001b[0m\u001b[1m diff_auto_time \u001b[0m\u001b[1m total_time  \u001b[0m\u001b[1m objective_value \u001b[0m\n",
      "     │\u001b[90m String     \u001b[0m\u001b[90m Float64        \u001b[0m\u001b[90m String      \u001b[0m\u001b[90m Float64         \u001b[0m\n",
      "─────┼──────────────────────────────────────────────────────────\n",
      "   1 │ KNITRO_SQP      0.0         253.6 μs             1.01282\n",
      "   2 │ KNITRO_IPM      0.0         376.6 μs             1.01282\n",
      "   3 │ Ipopt           0.00999999  8.7723 ms            1.01282\n",
      "   4 │ MadNLP          0.0110002   13.00505 ms          1.01282\n"
     ]
    }
   ],
   "source": [
    "s_results,best_s = solver_variant(JuMPModel);"
   ]
  },
  {
   "cell_type": "code",
   "execution_count": 7,
   "metadata": {},
   "outputs": [
    {
     "name": "stdout",
     "output_type": "stream",
     "text": [
      "Picking the best solver: \n",
      "The best solver is KNITRO_SQP\n"
     ]
    }
   ],
   "source": [
    "println(\"Picking the best solver: \")\n",
    "if best_s == \"KNITRO_IPM\" \n",
    "    println(\"The best solver is KNITRO_IPM\")\n",
    "    set_optimizer(JuMPModel,KNITRO.Optimizer);\n",
    "    set_attribute(JuMPModel, \"algorithm\", 1);\n",
    "elseif best_s == \"Ipopt\"\n",
    "    println(\"The best solver is Ipopt\")\n",
    "    set_optimizer(JuMPModel,Ipopt.Optimizer);\n",
    "elseif best_s == \"MadNLP\"\n",
    "    println(\"The best solver is MadNLP\")\n",
    "    set_optimizer(JuMPModel,MadNLP.Optimizer);\n",
    "elseif best_s == \"KNITRO_SQP\"\n",
    "    println(\"The best solver is KNITRO_SQP\")\n",
    "    set_optimizer(JuMPModel,KNITRO.Optimizer);\n",
    "    set_attribute(JuMPModel, \"algorithm\", 4);\n",
    "end"
   ]
  }
 ],
 "metadata": {
  "kernelspec": {
   "display_name": "Julia 1.10.4",
   "language": "julia",
   "name": "julia-1.10"
  },
  "language_info": {
   "file_extension": ".jl",
   "mimetype": "application/julia",
   "name": "julia",
   "version": "1.10.4"
  }
 },
 "nbformat": 4,
 "nbformat_minor": 2
}
