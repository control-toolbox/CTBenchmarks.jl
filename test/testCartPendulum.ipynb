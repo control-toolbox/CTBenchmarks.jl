{
 "cells": [
  {
   "cell_type": "markdown",
   "metadata": {},
   "source": [
    "<div style=\"width:90%;\n",
    "            margin:10px;\n",
    "            padding:8px;\n",
    "            border:2px solid #FF0000;\n",
    "            border-radius:20px;\n",
    "            font-weight:bold;\n",
    "            font-size:2.5em;\n",
    "            text-align:center;\">\n",
    "The Cart Pendulum Problem\n",
    "</div>\n"
   ]
  },
  {
   "cell_type": "markdown",
   "metadata": {},
   "source": [
    "<div style=\"width:90%;\n",
    "            margin:9px;\n",
    "            font-size:1em;\">\n",
    "            \n",
    "*The Cart Pendulum Problem:* We consider a cart-pendulum system with a pendulum of mass `m` and length `L`. The cart is actuated by a force `Fex` and the pendulum is subject to gravity `g`. The state of the system is described by the position of the cart `x` and the angle of the pendulum `θ`. The objective is to swing up the pendulum and stabilize it in the upright position in the shortest possible time.                                                                 \n",
    "The problem is inspired from the following paper: [FATROP : A Fast Constrained Optimal Control Problem Solver for Robot Trajectory Optimization and Control](https://arxiv.org/pdf/2303.16746) made for [Casadi](https://web.casadi.org/) software and [Fatrop](https://github.com/meco-group/fatrop) solver.                            \n",
    "We solve the problem using the [JuMP](https://jump.dev/) and [OptimalControl](https://control-toolbox.org/OptimalControl.jl/stable/) packages in Julia then we compare the results.\n",
    "\n",
    "1. [JuMP Formulation](#jump)\n",
    "2. [OptimalControl Formulation](#oc)\n",
    "3. [Comparison](#comp)\n",
    "\n",
    "</div>"
   ]
  },
  {
   "cell_type": "code",
   "execution_count": 1,
   "metadata": {},
   "outputs": [
    {
     "name": "stderr",
     "output_type": "stream",
     "text": [
      "\u001b[32m\u001b[1m  Activating\u001b[22m\u001b[39m project at `~/ENSEEIHT/Stage/CTBenchmarks.jl`\n"
     ]
    }
   ],
   "source": [
    "import Pkg\n",
    "Pkg.activate(\"..\")\n",
    "include(\"./utils.jl\");\n",
    "using OptimalControlProblems\n",
    "using Plots\n",
    "using MKL\n",
    "import HSL_jll\n",
    "nh= 200;"
   ]
  },
  {
   "cell_type": "markdown",
   "metadata": {},
   "source": [
    "## 1. Solving with JuMP <a id='jump'></a>"
   ]
  },
  {
   "cell_type": "code",
   "execution_count": null,
   "metadata": {},
   "outputs": [
    {
     "ename": "MethodError",
     "evalue": "MethodError: no method matching size(::VariableRef)\nThe function `size` exists, but no method is defined for this combination of argument types.\nYou may need to implement the `length` method or define `IteratorSize` for this type to be `SizeUnknown`.\n\nClosest candidates are:\n  size(!Matched::BitVector)\n   @ Base bitarray.jl:104\n  size(!Matched::BitVector, !Matched::Integer)\n   @ Base bitarray.jl:107\n  size(!Matched::Core.Compiler.StmtRange)\n   @ Base show.jl:2820\n  ...\n",
     "output_type": "error",
     "traceback": [
      "MethodError: no method matching size(::VariableRef)\n",
      "The function `size` exists, but no method is defined for this combination of argument types.\n",
      "You may need to implement the `length` method or define `IteratorSize` for this type to be `SizeUnknown`.\n",
      "\n",
      "Closest candidates are:\n",
      "  size(!Matched::BitVector)\n",
      "   @ Base bitarray.jl:104\n",
      "  size(!Matched::BitVector, !Matched::Integer)\n",
      "   @ Base bitarray.jl:107\n",
      "  size(!Matched::Core.Compiler.StmtRange)\n",
      "   @ Base show.jl:2820\n",
      "  ...\n",
      "\n",
      "\n",
      "Stacktrace:\n",
      "  [1] _broadcast_getindex_evalf\n",
      "    @ ./broadcast.jl:678 [inlined]\n",
      "  [2] _broadcast_getindex\n",
      "    @ ./broadcast.jl:651 [inlined]\n",
      "  [3] (::Base.Broadcast.var\"#17#18\"{Base.Broadcast.Broadcasted{Base.Broadcast.Style{Tuple}, Nothing, typeof(size), Tuple{Tuple{Vector{NonlinearExpr}, VariableRef}}}})(k::Int64)\n",
      "    @ Base.Broadcast ./broadcast.jl:1102\n",
      "  [4] ntuple\n",
      "    @ ./ntuple.jl:49 [inlined]\n",
      "  [5] copy\n",
      "    @ ./broadcast.jl:1102 [inlined]\n",
      "  [6] materialize\n",
      "    @ ./broadcast.jl:872 [inlined]\n",
      "  [7] mutability(::Vector{NonlinearExpr}, ::typeof(*), ::Vector{NonlinearExpr}, ::VariableRef)\n",
      "    @ MutableArithmetics ~/.julia/packages/MutableArithmetics/tNSBd/src/interface.jl:292\n",
      "  [8] operate!!(::typeof(*), ::Vector{NonlinearExpr}, ::VariableRef)\n",
      "    @ MutableArithmetics ~/.julia/packages/MutableArithmetics/tNSBd/src/interface.jl:616\n",
      "  [9] macro expansion\n",
      "    @ ~/.julia/packages/MutableArithmetics/tNSBd/src/rewrite.jl:371 [inlined]\n",
      " [10] macro expansion\n",
      "    @ ~/.julia/packages/JuMP/LKjRR/src/macros.jl:264 [inlined]\n",
      " [11] macro expansion\n",
      "    @ ~/.julia/packages/JuMP/LKjRR/src/macros/@expression.jl:86 [inlined]\n",
      " [12] (::JuMPModels.var\"#53#71\"{JuMP.Containers.DenseAxisArray{NonlinearExpr, 1, Tuple{UnitRange{Int64}}, Tuple{JuMP.Containers._AxisLookup{Tuple{Int64, Int64}}}}, JuMP.Containers.DenseAxisArray{VariableRef, 1, Tuple{UnitRange{Int64}}, Tuple{JuMP.Containers._AxisLookup{Tuple{Int64, Int64}}}}, JuMP.Containers.DenseAxisArray{VariableRef, 1, Tuple{UnitRange{Int64}}, Tuple{JuMP.Containers._AxisLookup{Tuple{Int64, Int64}}}}, VariableRef, Float64, Model})(i::Int64)\n",
      "    @ JuMPModels ~/.julia/packages/JuMP/LKjRR/src/Containers/macro.jl:559\n",
      " [13] (::JuMP.Containers.var\"#87#89\"{JuMPModels.var\"#53#71\"{JuMP.Containers.DenseAxisArray{NonlinearExpr, 1, Tuple{UnitRange{Int64}}, Tuple{JuMP.Containers._AxisLookup{Tuple{Int64, Int64}}}}, JuMP.Containers.DenseAxisArray{VariableRef, 1, Tuple{UnitRange{Int64}}, Tuple{JuMP.Containers._AxisLookup{Tuple{Int64, Int64}}}}, JuMP.Containers.DenseAxisArray{VariableRef, 1, Tuple{UnitRange{Int64}}, Tuple{JuMP.Containers._AxisLookup{Tuple{Int64, Int64}}}}, VariableRef, Float64, Model}})(I::Tuple{Int64})\n",
      "    @ JuMP.Containers ~/.julia/packages/JuMP/LKjRR/src/Containers/container.jl:124\n",
      " [14] iterate\n",
      "    @ ./generator.jl:48 [inlined]\n",
      " [15] collect(itr::Base.Generator{JuMP.Containers.VectorizedProductIterator{Tuple{UnitRange{Int64}}}, JuMP.Containers.var\"#87#89\"{JuMPModels.var\"#53#71\"{JuMP.Containers.DenseAxisArray{NonlinearExpr, 1, Tuple{UnitRange{Int64}}, Tuple{JuMP.Containers._AxisLookup{Tuple{Int64, Int64}}}}, JuMP.Containers.DenseAxisArray{VariableRef, 1, Tuple{UnitRange{Int64}}, Tuple{JuMP.Containers._AxisLookup{Tuple{Int64, Int64}}}}, JuMP.Containers.DenseAxisArray{VariableRef, 1, Tuple{UnitRange{Int64}}, Tuple{JuMP.Containers._AxisLookup{Tuple{Int64, Int64}}}}, VariableRef, Float64, Model}}})\n",
      "    @ Base ./array.jl:791\n",
      " [16] map(f::Function, A::JuMP.Containers.VectorizedProductIterator{Tuple{UnitRange{Int64}}})\n",
      "    @ Base ./abstractarray.jl:3399\n",
      " [17] container(f::Function, indices::JuMP.Containers.VectorizedProductIterator{Tuple{UnitRange{Int64}}}, ::Type{JuMP.Containers.DenseAxisArray}, names::Vector{Any})\n",
      "    @ JuMP.Containers ~/.julia/packages/JuMP/LKjRR/src/Containers/container.jl:123\n",
      " [18] container\n",
      "    @ ~/.julia/packages/JuMP/LKjRR/src/Containers/container.jl:75 [inlined]\n",
      " [19] macro expansion\n",
      "    @ ~/.julia/packages/JuMP/LKjRR/src/macros.jl:402 [inlined]\n",
      " [20] cart_pendulum(::JuMPBackend; nh::Int64)\n",
      "    @ JuMPModels ~/.julia/packages/OptimalControlProblems/u4OUr/ext/JuMPModels/cart_pendulum.jl:56\n",
      " [21] top-level scope\n",
      "    @ ~/ENSEEIHT/Stage/CTBenchmarks.jl/test/jl_notebook_cell_df34fa98e69747e1a8f8a730347b8e2f_W4sdnNjb2RlLXJlbW90ZQ==.jl:3"
     ]
    }
   ],
   "source": [
    "using JuMP , Ipopt\n",
    "\n",
    "CartJMP = cart_pendulum(JuMPBackend();nh)\n",
    "\n",
    "set_optimizer(CartJMP,Ipopt.Optimizer)\n",
    "set_attribute(CartJMP, \"print_level\", 5)\n",
    "set_optimizer_attribute(CartJMP,\"tol\",1e-8)\n",
    "set_optimizer_attribute(CartJMP,\"constr_viol_tol\",1e-6)\n",
    "set_optimizer_attribute(CartJMP,\"max_iter\",1000)\n",
    "set_optimizer_attribute(CartJMP,\"mu_strategy\",\"adaptive\")\n",
    "#set_attribute(CartJMP, \"hsllib\", HSL_jll.libhsl_path)\n",
    "#set_attribute(CartJMP, \"linear_solver\", \"ma57\")\n",
    "set_optimizer_attribute(CartJMP, \"print_timing_statistics\", \"yes\")"
   ]
  },
  {
   "cell_type": "code",
   "execution_count": null,
   "metadata": {},
   "outputs": [],
   "source": [
    "println(\"Solving...\")\n",
    "optimize!(CartJMP)\n",
    "println()\n",
    "\n",
    "# Display results\n",
    "if termination_status(CartJMP) == MOI.OPTIMAL\n",
    "    println(\"  Solution is optimal\")\n",
    "elseif  termination_status(CartJMP) == MOI.LOCALLY_SOLVED\n",
    "    println(\"  (Local) solution found\")\n",
    "elseif termination_status(CartJMP) == MOI.TIME_LIMIT && has_values(CartJMP)\n",
    "    println(\"  Solution is suboptimal due to a time limit, but a primal solution is available\")\n",
    "else\n",
    "    error(\"  The model was not solved correctly.\")\n",
    "end\n",
    "println(\"  objective value = \", objective_value(CartJMP))\n",
    "println()\n",
    "\n",
    "tf = CartJMP[:tf]\n",
    "x_ = CartJMP[:x];\n",
    "dx_ = CartJMP[:dx];\n",
    "theta_ = CartJMP[:theta];\n",
    "omega_ = CartJMP[:omega];\n",
    "u_ = CartJMP[:Fex];\n",
    "con_d_x = CartJMP[:d_x];\n",
    "con_d_dx = CartJMP[:d_dx];\n",
    "con_d_theta = CartJMP[:d_theta];\n",
    "con_d_omega = CartJMP[:d_omega];\n",
    "\n",
    "Δt = value(tf)/nh;\n",
    "t = Vector((0:nh)*Δt); \n",
    "p = - [[ dual(con_d_x[i]), dual(con_d_dx[i]), dual(con_d_theta[i]), dual(con_d_omega[i]) ] for i in 1:nh];\n",
    "p = costateInterpolation(p, t);\n",
    "\n",
    "x1 = Vector(value.(x_)) ;\n",
    "dx = Vector(value.(dx_)) ;\n",
    "theta = Vector(value.(theta_)) ;\n",
    "omega = Vector(value.(omega_));\n",
    "u = Vector(value.(u_)) ;\n",
    "\n",
    "x =  [ [ x1[i], dx[i], theta[i], omega[i] ] for i in 1:nh+1];"
   ]
  },
  {
   "cell_type": "code",
   "execution_count": null,
   "metadata": {},
   "outputs": [],
   "source": [
    "# For plotting results\n",
    "x1_plot = plot(t, [ x[i][1] for i in 1:nh+1 ], xlabel = \"t\", ylabel = \"x\", legend = false)\n",
    "x2_plot = plot(t, [ x[i][2] for i in 1:nh+1], xlabel = \"t\", ylabel = \"dx\", legend = false)\n",
    "x3_plot = plot(t, [ x[i][3] for i in 1:nh+1 ], xlabel = \"t\", ylabel = \"theta\", legend = false)\n",
    "x4_plot = plot(t, [ x[i][4] for i in 1:nh+1 ], xlabel = \"t\", ylabel = \"omega\", legend = false)\n",
    "\n",
    "px1_plot = plot(t, [ p[i][1] for i in 1:nh+1 ], xlabel = \"t\", ylabel = \"p_x\", legend = false)\n",
    "px2_plot = plot(t, [ p[i][2] for i in 1:nh+1 ], xlabel = \"t\", ylabel = \"p_dx\", legend = false)\n",
    "px3_plot = plot(t, [ p[i][3] for i in 1:nh+1 ], xlabel = \"t\", ylabel = \"p_theta\", legend = false)\n",
    "px4_plot = plot(t, [ p[i][4] for i in 1:nh+1 ], xlabel = \"t\", ylabel = \"p_omega\", legend = false)\n",
    "\n",
    "u_plot = plot(t, [ u[i] for i in 1:nh+1 ], xlabel = \"t\", ylabel = \"Fex\", legend = false)\n",
    "\n",
    "layout = @layout [a b; c d; e f; g h ;j]\n",
    "x_plot = plot(x1_plot, px1_plot, x2_plot, px2_plot, x3_plot, px3_plot, x4_plot, px4_plot, u_plot, layout = layout)\n",
    "x_plot = plot!(x_plot, size = (600, 800))\n",
    "display(x_plot)"
   ]
  },
  {
   "cell_type": "markdown",
   "metadata": {},
   "source": [
    "## 2. Solving with OptimalControl <a id='oc'></a>"
   ]
  },
  {
   "cell_type": "code",
   "execution_count": 11,
   "metadata": {},
   "outputs": [],
   "source": [
    "using OptimalControl, NLPModelsIpopt\n",
    "docp, CartOC = cart_pendulum(OptimalControlBackend();nh);"
   ]
  },
  {
   "cell_type": "code",
   "execution_count": null,
   "metadata": {},
   "outputs": [],
   "source": [
    "# Solve the problem\n",
    "nlp_sol = NLPModelsIpopt.ipopt(\n",
    "    CartOC;\n",
    "    print_level=5,\n",
    "    tol=1e-8,\n",
    "    mu_strategy=\"adaptive\",\n",
    "    sb=\"yes\",\n",
    "    constr_viol_tol=1e-6,\n",
    "    max_iter=1000,\n",
    "    print_timing_statistics=\"yes\",\n",
    "    #linear_solver=\"ma57\",\n",
    "    #hsllib=HSL_jll.libhsl_path,\n",
    ")"
   ]
  },
  {
   "cell_type": "code",
   "execution_count": null,
   "metadata": {},
   "outputs": [],
   "source": [
    "# Plot results\n",
    "sol = OptimalControlSolution(docp; primal=nlp_sol.solution, dual=nlp_sol.multipliers)\n",
    "plot(sol)"
   ]
  },
  {
   "cell_type": "markdown",
   "metadata": {},
   "source": [
    "## 3. Comparison <a id='comp'></a>"
   ]
  },
  {
   "cell_type": "code",
   "execution_count": null,
   "metadata": {},
   "outputs": [],
   "source": [
    "p1 = plot(plot(sol)[1],line = 2)\n",
    "p1 = plot!(t, [ x[i][1] for i in 1:nh+1 ], xlabel = \"t\", ylabel = \"x\", legend = false,line = 2, color = \"red\",linestyle=:dash)\n",
    "\n",
    "p2 = plot(plot(sol)[2],line = 2)\n",
    "p2 = plot!(t, [ x[i][2] for i in 1:nh+1], xlabel = \"t\", ylabel = \"dx\", legend = false,line = 2, color = \"red\",linestyle=:dash)\n",
    "\n",
    "p3 = plot(plot(sol)[3],line = 2)\n",
    "p3 = plot!(t, [ x[i][3] for i in 1:nh+1 ], xlabel = \"t\", ylabel = \"theta\", legend = false,line = 2, color = \"red\",linestyle=:dash)\n",
    "\n",
    "p4 = plot(plot(sol)[4],line = 2)\n",
    "p4 = plot!(t, [ x[i][4] for i in 1:nh+1 ], xlabel = \"t\", ylabel = \"omega\", legend = false,line = 2, color = \"red\",linestyle=:dash)\n",
    "\n",
    "p5 = plot(plot(sol)[5],line = 2)\n",
    "p5 = plot!(t, [ p[i][1] for i in 1:nh+1 ], xlabel = \"t\", ylabel = \"p_x\", legend = false,line = 2, color = \"red\",linestyle=:dash)\n",
    "\n",
    "p6 = plot(plot(sol)[6],line = 2)\n",
    "p6 = plot!(t, [ p[i][2] for i in 1:nh+1 ], xlabel = \"t\", ylabel = \"p_dx\", legend = false,line = 2, color = \"red\",linestyle=:dash)\n",
    "\n",
    "p7 = plot(plot(sol)[7],line = 2)\n",
    "p7 = plot!(t, [ p[i][3] for i in 1:nh+1 ], xlabel = \"t\", ylabel = \"p_theta\", legend = false,line = 2, color = \"red\",linestyle=:dash)\n",
    "\n",
    "p8 = plot(plot(sol)[8],line = 2)\n",
    "p8 = plot!(t, [ p[i][4] for i in 1:nh+1 ], xlabel = \"t\", ylabel = \"p_omega\", legend = false,line = 2, color = \"red\",linestyle=:dash)\n",
    "\n",
    "p9 = plot(plot(sol)[9], label =\"OC\",line = 2)\n",
    "p9 = plot!(t, [ u[i] for i in 1:nh+1 ], xlabel = \"t\", ylabel = \"Fex\", legend = false, label = \"JuMP\",line = 2, color = \"red\",linestyle=:dash)\n",
    "p9 = plot!(legend=:outerbottom, legendcolumns=2)\n",
    "\n",
    "layout = @layout [a b; c d; e f; g h ;j]\n",
    "\n",
    "x_plot =  plot(p1,p5,p2,p6,p3,p7,p4,p8,p9, layout = layout)\n",
    "x_plot = plot!(x_plot, size = (700, 800))\n",
    "display(x_plot)"
   ]
  }
 ],
 "metadata": {
  "kernelspec": {
   "display_name": "Julia 1.11.5",
   "language": "julia",
   "name": "julia-1.11"
  },
  "language_info": {
   "file_extension": ".jl",
   "mimetype": "application/julia",
   "name": "julia",
   "version": "1.11.5"
  }
 },
 "nbformat": 4,
 "nbformat_minor": 2
}
